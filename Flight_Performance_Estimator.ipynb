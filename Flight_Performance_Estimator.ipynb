{
 "cells": [
  {
   "cell_type": "markdown",
   "id": "946879c8",
   "metadata": {},
   "source": [
    "## Flight Performance Estimator \n"
   ]
  },
  {
   "cell_type": "markdown",
   "id": "8232b4b1",
   "metadata": {},
   "source": []
  }
 ],
 "metadata": {
  "kernelspec": {
   "display_name": "Python 3",
   "language": "python",
   "name": "python3"
  },
  "language_info": {
   "name": "python",
   "version": "3.13.7"
  }
 },
 "nbformat": 4,
 "nbformat_minor": 5
}
